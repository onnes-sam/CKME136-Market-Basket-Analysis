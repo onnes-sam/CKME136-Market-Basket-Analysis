{
 "cells": [
  {
   "cell_type": "code",
   "execution_count": 30,
   "metadata": {
    "scrolled": true
   },
   "outputs": [
    {
     "data": {
      "text/html": [
       "        <script type=\"text/javascript\">\n",
       "        window.PlotlyConfig = {MathJaxConfig: 'local'};\n",
       "        if (window.MathJax) {MathJax.Hub.Config({SVG: {font: \"STIX-Web\"}});}\n",
       "        if (typeof require !== 'undefined') {\n",
       "        require.undef(\"plotly\");\n",
       "        requirejs.config({\n",
       "            paths: {\n",
       "                'plotly': ['https://cdn.plot.ly/plotly-latest.min']\n",
       "            }\n",
       "        });\n",
       "        require(['plotly'], function(Plotly) {\n",
       "            window._Plotly = Plotly;\n",
       "        });\n",
       "        }\n",
       "        </script>\n",
       "        "
      ]
     },
     "metadata": {},
     "output_type": "display_data"
    }
   ],
   "source": [
    "from pyspark.sql import SparkSession\n",
    "from pyspark.sql import SQLContext\n",
    "from pyspark.sql.functions import date_format\n",
    "from pyspark.sql.types import *\n",
    "import plotly.graph_objs as go\n",
    "from plotly.offline import download_plotlyjs, init_notebook_mode, plot, iplot\n",
    "import shutil\n",
    "init_notebook_mode(connected=True)\n",
    "spark = SparkSession.builder.appName(\"Python Spark SQL basic example\").getOrCreate()\n",
    "sc = spark.sparkContext\n",
    "sqlContext = SQLContext(sc)\n",
    "df = sqlContext.read.load('/test_dev/mba-code/dataset.csv', format='csv', header='true', inferSchema='true')\n",
    "df.select(\"InvoiceNo\", \"StockCode\", \"Description\", \"Quantity\", \"InvoiceDate\",\"InvoiceDateWS\" ,date_format('InvoiceDateWS', 'E').alias('weekday'),\"CustomerID\",\"Country\").write.save(\"Invoices.parquet\", format=\"parquet\")\n",
    "parquetFile = spark.read.parquet(\"Invoices.parquet\")\n",
    "# Parquet files can also be used to create a temporary view and then used in SQL statements.\n",
    "parquetFile.createOrReplaceTempView(\"parquetFile\")"
   ]
  },
  {
   "cell_type": "code",
   "execution_count": 17,
   "metadata": {},
   "outputs": [],
   "source": [
    "DescriptionGrp = spark.sql(\"SELECT distinct Description,Count(Quantity) as QCount FROM parquetFile group by Description\")\n",
    "DescriptionGrp.coalesce(1).write.format(\"csv\").option(\"header\", \"true\").save(\"DescriptionGrp\")"
   ]
  },
  {
   "cell_type": "code",
   "execution_count": 24,
   "metadata": {},
   "outputs": [],
   "source": [
    "MostObjsPerDay = spark.sql(\"SELECT distinct Description,Count(Quantity) as QCount,InvoiceDateWS as PURCHASEDATE FROM parquetFile group by Description,InvoiceDateWS\")\n",
    "MostObjsPerDay.coalesce(1).write.format(\"csv\").option(\"header\", \"true\").save(\"MostObjsPerDay\")"
   ]
  },
  {
   "cell_type": "code",
   "execution_count": 25,
   "metadata": {},
   "outputs": [],
   "source": [
    "TopPerCust = spark.sql(\"SELECT distinct Description,Count(Quantity) as QCount,CustomerID FROM parquetFile group by Description,CustomerID order by QCount\")\n",
    "TopPerCust.coalesce(1).write.format(\"csv\").option(\"header\", \"true\").save(\"TopPerCust\")"
   ]
  },
  {
   "cell_type": "code",
   "execution_count": 31,
   "metadata": {},
   "outputs": [],
   "source": [
    "import calendar\n",
    "WeekdayPerProduct = spark.sql(\"SELECT distinct Description,weekday,Count(Quantity) as QCount,CustomerID FROM parquetFile group by Description,CustomerID,weekday order by QCount\")\n",
    "WeekdayPerProduct.coalesce(1).write.format(\"csv\").option(\"header\", \"true\").save(\"WeekdayPerProduct\")"
   ]
  },
  {
   "cell_type": "code",
   "execution_count": null,
   "metadata": {},
   "outputs": [],
   "source": []
  }
 ],
 "metadata": {
  "kernelspec": {
   "display_name": "Python 2",
   "language": "python",
   "name": "python2"
  },
  "language_info": {
   "codemirror_mode": {
    "name": "ipython",
    "version": 2
   },
   "file_extension": ".py",
   "mimetype": "text/x-python",
   "name": "python",
   "nbconvert_exporter": "python",
   "pygments_lexer": "ipython2",
   "version": "2.7.5"
  }
 },
 "nbformat": 4,
 "nbformat_minor": 2
}
