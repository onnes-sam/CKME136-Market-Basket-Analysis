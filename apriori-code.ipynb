{
 "cells": [
  {
   "cell_type": "code",
   "execution_count": 3,
   "metadata": {
    "scrolled": true
   },
   "outputs": [],
   "source": [
    "from pyspark.sql import SparkSession\n",
    "from pyspark.sql import SQLContext\n",
    "from pyspark.sql.functions import date_format\n",
    "from pyspark.sql.types import *\n",
    "import pandas as pd\n",
    "from pyspark.sql.functions import unix_timestamp, from_unixtime\n",
    "#import plotly.graph_objs as go\n",
    "#from plotly.offline import download_plotlyjs, init_notebook_mode, plot, iplot\n",
    "import shutil\n",
    "#init_notebook_mode(connected=True)\n",
    "spark = SparkSession.builder.appName(\"Python Spark SQL basic example\").getOrCreate()\n",
    "sc = spark.sparkContext\n",
    "sqlContext = SQLContext(sc)\n",
    "df = sqlContext.read.load('/test_dev/mba-code/dataset.csv', format='csv', header='true', inferSchema='true')\n",
    "df.select(\"InvoiceNo\", \"StockCode\", \"Description\", \"Quantity\", \"InvoiceDate\",\"InvoiceDateWS\" ,date_format(from_unixtime(unix_timestamp('InvoiceDateWS', 'mm/dd/yyy')), 'EEEE').alias('weekday'),\"CustomerID\",\"Country\").write.save(\"Invoices.parquet\", format=\"parquet\")\n",
    "parquetFile = spark.read.parquet(\"Invoices.parquet\")\n",
    "# Parquet files can also be used to create a temporary view and then used in SQL statements.\n",
    "parquetFile.createOrReplaceTempView(\"parquetFile\")"
   ]
  },
  {
   "cell_type": "code",
   "execution_count": 17,
   "metadata": {},
   "outputs": [
    {
     "name": "stdout",
     "output_type": "stream",
     "text": [
      "[Row(InvoiceNo=u'549099', StockCode=u'21908'), Row(InvoiceNo=u'549101', StockCode=u'22586')]\n",
      "<generator object apriori at 0x7f6202493820>\n"
     ]
    }
   ],
   "source": [
    "#yield tuple(k.strip() for k in line.split(','))      \n",
    "from operator import add\n",
    "from apyori import apriori\n",
    "import pyspark.sql.functions as f\n",
    "DescriptionGrp = spark.sql(\"SELECT distinct InvoiceNo,StockCode FROM parquetFile group by InvoiceNo,StockCode\")\n",
    "print(DescriptionGrp.rdd.take(2))\n",
    "minSupport = 0.05 * DescriptionGrp.rdd.count()\n",
    "apr_tem=DescriptionGrp.rdd.map(lambda x: (x[0], [x[1]])).reduceByKey(lambda x,y: x + y).collect()\n",
    "pandas_mba_df = pd.DataFrame(apr_tem)\n",
    "mba_list = pandas_mba_df.values.tolist()\n",
    "#print(pandas_mba_df)\n",
    "association_rules=apriori(mba_list,min_support=0.5,min_confidence=0.7,min_lift=1.2,min_length=2)\n",
    "#association_rules=list(association_rules)\n",
    "print(association_rules)\n",
    "#rdd = DescriptionGrp.rdd.filter(lambda x: x[0][2] == x[1][2])\n",
    "#items_tuple = DescriptionGrp.rdd.map(lambda x: (x[0], list(set(x[1]))))\n",
    "#items_tuple.collect()\n",
    "#items = DescriptionGrp.rdd.flatMap(lambda line:line.split(\",\"))\n",
    "#DescriptionGrp.rdd.take(100).groupByKey().collect()\n",
    "#items_tuple = items.map(lambda x: (x[0], list(set(x[1]))))\n",
    "#items.collect()\n",
    "#df_new = DescriptionGrp.toPandas().apply(pd.Series).unstack().reset_index()\n",
    "#spDF = sqlContext.createDataFrame(df_new)\n",
    "#print(items_tuple.take(5))\n",
    "#itemCount = spDF.rdd.map(lambda item:(item, 1)).reduceByKey(add)\n",
    "#print(itemCount.take(5))\n",
    "#l1 = itemCount.filter(lambda (i,c): c > minSupport)\n",
    "#print(l1.take(5))\n",
    "#l1.take(5)"
   ]
  },
  {
   "cell_type": "code",
   "execution_count": null,
   "metadata": {},
   "outputs": [],
   "source": []
  }
 ],
 "metadata": {
  "kernelspec": {
   "display_name": "Python 2",
   "language": "python",
   "name": "python2"
  },
  "language_info": {
   "codemirror_mode": {
    "name": "ipython",
    "version": 2
   },
   "file_extension": ".py",
   "mimetype": "text/x-python",
   "name": "python",
   "nbconvert_exporter": "python",
   "pygments_lexer": "ipython2",
   "version": "2.7.5"
  }
 },
 "nbformat": 4,
 "nbformat_minor": 2
}
