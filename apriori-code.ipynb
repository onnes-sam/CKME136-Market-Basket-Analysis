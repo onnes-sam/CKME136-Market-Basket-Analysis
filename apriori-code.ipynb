{
 "cells": [
  {
   "cell_type": "code",
   "execution_count": 22,
   "metadata": {
    "scrolled": true
   },
   "outputs": [],
   "source": [
    "from pyspark.sql import SparkSession\n",
    "from pyspark.sql import SQLContext\n",
    "from pyspark.sql.functions import date_format\n",
    "from pyspark.sql.types import *\n",
    "import pandas as pd\n",
    "from pyspark.sql.functions import unix_timestamp, from_unixtime\n",
    "#import plotly.graph_objs as go\n",
    "#from plotly.offline import download_plotlyjs, init_notebook_mode, plot, iplot\n",
    "import shutil\n",
    "#init_notebook_mode(connected=True)\n",
    "spark = SparkSession.builder.appName(\"Python Spark SQL basic example\").getOrCreate()\n",
    "sc = spark.sparkContext\n",
    "sqlContext = SQLContext(sc)\n",
    "df = sqlContext.read.load('/test_dev/mba-code/dataset.csv', format='csv', header='true', inferSchema='true')\n",
    "df.select(\"InvoiceNo\", \"StockCode\", \"Description\", \"Quantity\", \"InvoiceDate\",\"InvoiceDateWS\" ,date_format(from_unixtime(unix_timestamp('InvoiceDateWS', 'mm/dd/yyy')), 'EEEE').alias('weekday'),\"CustomerID\",\"Country\").write.save(\"Invoices.parquet\", format=\"parquet\")\n",
    "parquetFile = spark.read.parquet(\"Invoices.parquet\")\n",
    "# Parquet files can also be used to create a temporary view and then used in SQL statements.\n",
    "parquetFile.createOrReplaceTempView(\"parquetFile\")"
   ]
  },
  {
   "cell_type": "code",
   "execution_count": 60,
   "metadata": {},
   "outputs": [
    {
     "name": "stdout",
     "output_type": "stream",
     "text": [
      "[Row(InvoiceNo=u'549099', StockCode=u'21908'), Row(InvoiceNo=u'549101', StockCode=u'22586'), Row(InvoiceNo=u'549127', StockCode=u'23053'), Row(InvoiceNo=u'549130', StockCode=u'22499'), Row(InvoiceNo=u'549153', StockCode=u'22691')]\n",
      "[]\n"
     ]
    }
   ],
   "source": [
    "from operator import add\n",
    "import pyspark.sql.functions as f\n",
    "DescriptionGrp = spark.sql(\"SELECT distinct InvoiceNo,StockCode FROM parquetFile group by InvoiceNo, StockCode\")\n",
    "print(DescriptionGrp.rdd.take(5))\n",
    "minSupport = 0.05 * DescriptionGrp.rdd.count()\n",
    "items = DescriptionGrp.rdd.flatMap(lambda line:line.split(\",\"))\n",
    "df_new = DescriptionGrp.toPandas().apply(pd.Series).unstack().reset_index()\n",
    "spDF = sqlContext.createDataFrame(df_new)\n",
    "itemCount = spDF.rdd.map(lambda item:(item, 1)).reduceByKey(add)\n",
    "l1 = itemCount.filter(lambda (i,c): c > minSupport)\n",
    "print(l1.take(10))\n",
    "#l1.take(5)"
   ]
  },
  {
   "cell_type": "code",
   "execution_count": null,
   "metadata": {},
   "outputs": [],
   "source": []
  }
 ],
 "metadata": {
  "kernelspec": {
   "display_name": "Python 2",
   "language": "python",
   "name": "python2"
  },
  "language_info": {
   "codemirror_mode": {
    "name": "ipython",
    "version": 2
   },
   "file_extension": ".py",
   "mimetype": "text/x-python",
   "name": "python",
   "nbconvert_exporter": "python",
   "pygments_lexer": "ipython2",
   "version": "2.7.5"
  }
 },
 "nbformat": 4,
 "nbformat_minor": 2
}
